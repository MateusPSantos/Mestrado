{
 "cells": [
  {
   "cell_type": "code",
   "execution_count": 2,
   "metadata": {},
   "outputs": [],
   "source": [
    "import gurobipy as gp\n",
    "from gurobipy import GRB\n",
    "from pathlib import Path\n",
    "import os\n",
    "import numpy as np\n",
    "import sys\n",
    "\n",
    "\n"
   ]
  },
  {
   "cell_type": "code",
   "execution_count": 3,
   "metadata": {},
   "outputs": [],
   "source": [
    "INSTANCE_PATH = Path('../instances/sifaleras')\n",
    "RESULT_PATH   = Path('../RESULTADOS/')"
   ]
  },
  {
   "cell_type": "code",
   "execution_count": 4,
   "metadata": {},
   "outputs": [],
   "source": [
    "arq = open(os.path.join(INSTANCE_PATH,'52_1.txt'))\n",
    "N = int(arq.readline())\n",
    "\n"
   ]
  },
  {
   "cell_type": "code",
   "execution_count": 5,
   "metadata": {},
   "outputs": [],
   "source": [
    "instances_names = os.listdir(INSTANCE_PATH)"
   ]
  },
  {
   "cell_type": "code",
   "execution_count": 6,
   "metadata": {},
   "outputs": [],
   "source": [
    "def leitura_instance(file_name):\n",
    "    arq = open(os.path.join(INSTANCE_PATH,file_name))\n",
    "    N = int(arq.readline())\n",
    "    PP  = [0]*N\n",
    "    PR  = [0]*N\n",
    "\n",
    "    FP = [float(arq.readline())]*N\n",
    "    FR = [float(arq.readline())]*N\n",
    "\n",
    "    HR = [float(arq.readline())]*N\n",
    "    HP = [float(arq.readline())]*N\n",
    "\n",
    "    D = [int(i) for i in arq.readline().split()]\n",
    "    \n",
    "    R = [int(i) for i in arq.readline().split()]\n",
    "    \n",
    "    return N, PP, PR, FP, FR, HR, HP, D, R"
   ]
  },
  {
   "cell_type": "code",
   "execution_count": 7,
   "metadata": {},
   "outputs": [],
   "source": [
    "cap = True\n",
    "file_name = '52_1.txt' #sys.argv[1]\n",
    "N, PP, PR, FP, FR, HR, HP, D, R =leitura_instance(file_name)\n",
    "MAX_CPU_TIME = 600.0\n",
    "EPSILON = 0.000001\n"
   ]
  },
  {
   "cell_type": "code",
   "execution_count": 8,
   "metadata": {},
   "outputs": [
    {
     "name": "stdout",
     "output_type": "stream",
     "text": [
      "Set parameter Username\n",
      "Academic license - for non-commercial use only - expires 2023-07-25\n",
      "Set parameter TimeLimit to value 60\n",
      "Set parameter MIPGap to value 1e-06\n",
      "Set parameter Threads to value 1\n",
      "Gurobi Optimizer version 9.5.2 build v9.5.2rc0 (linux64)\n",
      "Thread count: 4 physical cores, 8 logical processors, using up to 1 threads\n",
      "Optimize a model with 260 rows, 312 columns and 674 nonzeros\n",
      "Model fingerprint: 0xba15b155\n",
      "Variable types: 208 continuous, 104 integer (104 binary)\n",
      "Coefficient statistics:\n",
      "  Matrix range     [1e+00, 1e+03]\n",
      "  Objective range  [2e-01, 2e+02]\n",
      "  Bounds range     [1e+00, 1e+00]\n",
      "  RHS range        [2e+01, 1e+02]\n",
      "Found heuristic solution: objective 12770.800000\n",
      "Presolve removed 7 rows and 7 columns\n",
      "Presolve time: 0.00s\n",
      "Presolved: 253 rows, 305 columns, 660 nonzeros\n",
      "Variable types: 203 continuous, 102 integer (102 binary)\n",
      "\n",
      "Root relaxation: objective 7.197681e+03, 229 iterations, 0.00 seconds (0.00 work units)\n",
      "\n",
      "    Nodes    |    Current Node    |     Objective Bounds      |     Work\n",
      " Expl Unexpl |  Obj  Depth IntInf | Incumbent    BestBd   Gap | It/Node Time\n",
      "\n",
      "     0     0 7197.68057    0   95 12770.8000 7197.68057  43.6%     -    0s\n",
      "     0     0 8998.53992    0   95 12770.8000 8998.53992  29.5%     -    0s\n",
      "     0     0 9292.94513    0   88 12770.8000 9292.94513  27.2%     -    0s\n",
      "     0     0 9331.96994    0   89 12770.8000 9331.96994  26.9%     -    0s\n",
      "     0     0 9334.66050    0   93 12770.8000 9334.66050  26.9%     -    0s\n",
      "     0     0 9388.03925    0   86 12770.8000 9388.03925  26.5%     -    0s\n",
      "     0     0 9392.74607    0   90 12770.8000 9392.74607  26.5%     -    0s\n",
      "     0     0 9395.24842    0   89 12770.8000 9395.24842  26.4%     -    0s\n",
      "     0     0 9396.01913    0   89 12770.8000 9396.01913  26.4%     -    0s\n",
      "     0     0 9451.55041    0   82 12770.8000 9451.55041  26.0%     -    0s\n",
      "     0     0 9460.46721    0   85 12770.8000 9460.46721  25.9%     -    0s\n",
      "     0     0 9462.27047    0   86 12770.8000 9462.27047  25.9%     -    0s\n",
      "     0     0 9462.82153    0   86 12770.8000 9462.82153  25.9%     -    0s\n",
      "     0     0 9475.98246    0   87 12770.8000 9475.98246  25.8%     -    0s\n",
      "     0     0 9476.68177    0   87 12770.8000 9476.68177  25.8%     -    0s\n",
      "     0     0 9496.19335    0   85 12770.8000 9496.19335  25.6%     -    0s\n",
      "     0     0 9499.02341    0   87 12770.8000 9499.02341  25.6%     -    0s\n",
      "     0     0 9500.26370    0   82 12770.8000 9500.26370  25.6%     -    0s\n",
      "     0     0 9505.22089    0   88 12770.8000 9505.22089  25.6%     -    0s\n",
      "     0     0 9505.22089    0   88 12770.8000 9505.22089  25.6%     -    0s\n",
      "H    0     0                    12224.067952 9505.22089  22.2%     -    0s\n",
      "H    0     0                    11588.025000 9505.22089  18.0%     -    0s\n",
      "     0     2 9505.28940    0   88 11588.0250 9505.28940  18.0%     -    0s\n",
      "H   27    27                    11420.884615 9505.30194  16.8%  11.3    0s\n",
      "H   29    29                    10982.361538 9505.30194  13.4%  11.1    0s\n",
      "H   52    52                    10966.313462 9505.30194  13.3%  10.2    0s\n",
      "H   54    54                    10472.278846 9505.30194  9.23%  10.1    0s\n",
      "*  406   338              58    10453.603846 9524.85590  8.88%  11.4    0s\n",
      "H  638   470                    10401.253846 9923.16704  4.60%  13.5    1s\n",
      "H  879   585                    10393.067308 9933.49609  4.42%  17.6    2s\n",
      "H  881   510                    10214.165385 9933.49609  2.75%  17.6    2s\n",
      "H 1675   790                    10198.053846 9942.81623  2.50%  22.1    3s\n",
      "H 1993   924                    10185.876923 9952.30346  2.29%  23.4    3s\n",
      "H 2561  1279                    10184.342308 9957.58351  2.23%  24.4    4s\n",
      "  2894  1474 10180.5648   46   53 10184.3423 9961.89672  2.18%  24.9    5s\n",
      "  6600  3633 10047.5555   31   72 10184.3423 9981.54655  1.99%  26.7   10s\n",
      "H 8897  4811                    10176.896154 9989.67674  1.84%  26.8   12s\n",
      " 10203  5510 10034.9687   32   88 10176.8962 9991.91461  1.82%  26.9   18s\n",
      " 10276  5561 9991.91461   31   97 10176.8962 9991.91461  1.82%  27.0   20s\n",
      "H10518  5379                    10168.436538 9991.91461  1.74%  26.9   20s\n",
      "H10573  5122                    10143.780769 9991.91461  1.50%  26.9   20s\n",
      "H11196  5061                    10137.780769 9994.79967  1.41%  26.9   21s\n",
      "H11203  4818                    10135.092308 9994.79967  1.38%  26.9   21s\n",
      " 12824  5082     cutoff   55      10135.0923 10012.6306  1.21%  27.2   25s\n",
      " 15430  5387 10037.3844   41   80 10135.0923 10026.2302  1.07%  27.5   30s\n",
      " 18585  5535 10102.4569   43   65 10135.0923 10037.3342  0.96%  27.9   35s\n",
      " 21865  5588 10058.0580   42   77 10135.0923 10044.6622  0.89%  28.1   40s\n",
      " 25015  5841 10123.9074   44   61 10135.0923 10050.2124  0.84%  28.2   45s\n",
      " 28471  6744 10078.3346   43   64 10135.0923 10055.6018  0.78%  28.4   50s\n",
      " 31793  7442 10082.9492   42   64 10135.0923 10059.8905  0.74%  28.5   55s\n",
      "\n",
      "Cutting planes:\n",
      "  Gomory: 5\n",
      "  Cover: 2\n",
      "  MIR: 247\n",
      "  Flow cover: 231\n",
      "  Flow path: 103\n",
      "\n",
      "Explored 35055 nodes (1003142 simplex iterations) in 60.01 seconds (47.26 work units)\n",
      "Thread count was 1 (of 8 available processors)\n",
      "\n",
      "Solution count 10: 10135.1 10143.8 10168.4 ... 10453.6\n",
      "\n",
      "Time limit reached\n",
      "Best objective 1.013509230769e+04, best bound 1.006350259685e+04, gap 0.7064%\n",
      "Obj: 10135.1\n"
     ]
    }
   ],
   "source": [
    "SD = (np.zeros((N,N))).tolist()\n",
    "SR = (np.zeros((N,N))).tolist()\n",
    "for  i in range(N):\n",
    "    SD[i][i] = D[i]\n",
    "    SR[i][i] = R[i]\n",
    "    for j in range(i+1, N):\n",
    "        SD[i][j] = SD[i][j-1] + D[j]\n",
    "        SR[i][j] = SR[i][j-1] + R[j]\n",
    "    \n",
    "soma = sum(D)\n",
    "fator = 1.5\n",
    "#Capacidade de cada período\n",
    "C = (soma * fator)/N\n",
    "\n",
    "try:\n",
    "\n",
    "    # Create a new model\n",
    "    model = gp.Model(\"CLSR\")\n",
    "\n",
    "    # Create variables\n",
    "    \n",
    "    xp = model.addVars(list(range(N)), lb =0.0, ub = float('inf'),vtype=GRB.CONTINUOUS, name=\"xp\")\n",
    "    yp = model.addVars(list(range(N)), lb =0.0, ub = 1.0,vtype=GRB.BINARY, name=\"yp\")\n",
    "    sp = model.addVars(list(range(N)), lb =0.0, ub = float('inf'),vtype=GRB.CONTINUOUS, name=\"sp\")\n",
    "    xr = model.addVars(list(range(N)), lb =0.0, ub = float('inf'),vtype=GRB.CONTINUOUS, name=\"xr\")\n",
    "    yr = model.addVars(list(range(N)), lb =0.0, ub = 1.0,vtype=GRB.BINARY, name=\"yr\")\n",
    "    sr = model.addVars(list(range(N)), lb =0.0, ub = float('inf'),vtype=GRB.CONTINUOUS, name=\"sr\")\n",
    "\n",
    "\n",
    "    # # Set objective\n",
    "    model.setObjective(gp.quicksum(PP[i]*xp[i]+sp[i]*HP[i] + xr[i]*PR[i] + sr[i]*HR[i] + yp[i]*FP[i] + yr[i]*FR[i] for i in range(N)) , sense = GRB.MINIMIZE)\n",
    "\n",
    "    # # Add constraints\n",
    "    \n",
    "    model.addConstr(xp[0]+xr[0]-sp[0] == D[0])\n",
    "    model.addConstrs(sp[i-1] + xp[i] + xr[i] - sp[i] == D[i] for i in range(N) if i > 0 )\n",
    "    model.addConstr(R[0] - xr[0] - sr[0] == 0)\n",
    "    model.addConstrs(sr[i-1] + R[i] - xr[i] - sr[i] == 0 for i in range(N) if i > 0)\n",
    "    model.addConstrs(xp[i] - yp[i]*min(C,SD[i][N-1]) <= 0 for i in range(N))\n",
    "    model.addConstrs(xr[i] - yr[i]*min(SR[0][i], SD[i][N-1]) <= 0 for i in range(N))\n",
    "    model.addConstrs(xp[i] + xr[i] <= C for i in range(N))\n",
    "    model.write(file_name+\".lp\")\n",
    "\n",
    "    # Parameters \n",
    "    model.setParam(GRB.Param.TimeLimit, MAX_CPU_TIME)\n",
    "    model.setParam(GRB.Param.MIPGap, EPSILON)\n",
    "    model.setParam(GRB.Param.Threads,1)\n",
    "    model.setParam(GRB.Param.Cuts, -1)\n",
    "    model.setParam(GRB.Param.Presolve,-1)\n",
    "\n",
    "\n",
    "\n",
    "\n",
    "    # model.set(gp.GRB_DoubleParam_MIPGap, EPSILON)\n",
    "    # model.set(gp.GRB_IntParam_Threads, 1)\n",
    "    # model.set(gp.GRB_IntParam_Cuts, -1)\n",
    "    # model.set(gp.GRB_IntParam_Presolve, -1)\n",
    "\n",
    "\n",
    "\n",
    "    # Optimize model\n",
    "    model.optimize()\n",
    "\n",
    "\n",
    "\n",
    "\n",
    "    print('Obj: %g' % model.ObjVal)\n",
    "\n",
    "except gp.GurobiError as e:\n",
    "    print('Error code ' + str(e.errno) + ': ' + str(e))\n",
    "\n",
    "except AttributeError:\n",
    "    print('Encountered an attribute error')\n"
   ]
  },
  {
   "cell_type": "code",
   "execution_count": 23,
   "metadata": {},
   "outputs": [],
   "source": [
    "a = [1,2,3,4,5]"
   ]
  },
  {
   "cell_type": "code",
   "execution_count": 24,
   "metadata": {},
   "outputs": [
    {
     "data": {
      "text/plain": [
       "15"
      ]
     },
     "execution_count": 24,
     "metadata": {},
     "output_type": "execute_result"
    }
   ],
   "source": [
    "sum(a)"
   ]
  }
 ],
 "metadata": {
  "kernelspec": {
   "display_name": "Python 3.8.10 64-bit",
   "language": "python",
   "name": "python3"
  },
  "language_info": {
   "codemirror_mode": {
    "name": "ipython",
    "version": 3
   },
   "file_extension": ".py",
   "mimetype": "text/x-python",
   "name": "python",
   "nbconvert_exporter": "python",
   "pygments_lexer": "ipython3",
   "version": "3.8.10"
  },
  "orig_nbformat": 4,
  "vscode": {
   "interpreter": {
    "hash": "916dbcbb3f70747c44a77c7bcd40155683ae19c65e1c03b4aa3499c5328201f1"
   }
  }
 },
 "nbformat": 4,
 "nbformat_minor": 2
}
